{
 "cells": [
  {
   "cell_type": "markdown",
   "metadata": {},
   "source": [
    "# Production of indicators for the COVID19 Mobility Task Force\n",
    "\n",
    "In this notebook we produce indicators for the [COVID19 Mobility Task Force](https://github.com/worldbank/covid-mobile-data).\n",
    "\n",
    "[Flowminder](https://covid19.flowminder.org) indicators are produced to increase the availability of comparable datasets across countries, and have been copied without modification from the [Flowminder COVID-19 github repository](https://github.com/Flowminder/COVID-19) (except for the start and end dates). These have been supplemented by a set of *priority* indicators with data for ingestion into the dashboard in this repository.\n",
    "\n",
    "In this notebook we produce indicators in the following four steps:\n",
    "\n",
    "- **Import code**: The code for the aggregation is included in the 'custom_aggregation' and 'flowminder_aggregation' scripts\n",
    "- **Import data**: \n",
    "To set up the data import we need to place the CDR data files into the `data/new/CC/telco/` folder, where we replace `CC` with the country code and `telco` with the company abbreviation. \n",
    "We also need to place csv files with the tower-region mapping and distance matrices into the `data/support-data/CC/telco/geofiles` folder, and then modify the `data/support_data/config_file.py` to specify:\n",
    "    - *geofiles*: the names of the geofiles, \n",
    "    - *country_code*: country code and company abbreviation,\n",
    "    - *telecom_alias*: the path to the `data` folder,\n",
    "    - *data_paths*: the names to the subfolders in `data/new/CC/telco/` that hold the csv files. Simply change this to `[*]` if you didn't create subfolders and want to load all files.\n",
    "    - *dates*: set the start and end date of the data you want to produce the indicators for.\n",
    "    \n",
    "Find more information about the `config_file.py` settings see the [github page](https://github.com/worldbank/covid-mobile-data/tree/master/cdr-aggregation).\n",
    "    \n",
    "- **Run aggregations**: By default, we produce all flowminder and priority indicators. We've included 4 re-tries in case of failure, which we have experienced to help on databricks but is probably irrelevant in other settings. Note that before you can re-run these aggregations, you need to move the csv outputs that have been saved in `data/results/CC/telco/` in previous runs to another folder, else these indicators will be skipped. This prevents you from accidentally overwriting previous results. This way you can also delete the files only for the indicators you want to re-produce, and skip any indicatos you don't want to re-produce.\n",
    "\n",
    "The outcome of this effort will be used to inform policy making using a [mobility indicator dashboard](https://github.com/worldbank/covid-mobile-data/tree/master/dashboard-dataviz)."
   ]
  },
  {
   "cell_type": "markdown",
   "metadata": {},
   "source": [
    "# Import code"
   ]
  },
  {
   "cell_type": "code",
   "execution_count": 41,
   "metadata": {},
   "outputs": [
    {
     "name": "stdout",
     "output_type": "stream",
     "text": [
      "The autoreload extension is already loaded. To reload it, use:\n",
      "  %reload_ext autoreload\n"
     ]
    }
   ],
   "source": [
    "%load_ext autoreload\n",
    "%autoreload 2"
   ]
  },
  {
   "cell_type": "code",
   "execution_count": 50,
   "metadata": {},
   "outputs": [],
   "source": [
    "from modules.DataSource import *"
   ]
  },
  {
   "cell_type": "code",
   "execution_count": 51,
   "metadata": {},
   "outputs": [],
   "source": [
    "config_file = '../config_file.py'"
   ]
  },
  {
   "cell_type": "code",
   "execution_count": 52,
   "metadata": {},
   "outputs": [],
   "source": [
    "exec(open(config_file).read())"
   ]
  },
  {
   "cell_type": "code",
   "execution_count": 53,
   "metadata": {},
   "outputs": [
    {
     "name": "stdout",
     "output_type": "stream",
     "text": [
      "Spark mode is local\n",
      "\n",
      "Basepath: /home/jovyan/work/data\n",
      "Country and company path: zw/econet\n",
      "Paths for datafiles: ['mar20/*.csv', 'feb20/*.csv']\n",
      "Geofiles: {'tower_sites': 'zw_econet_sites.csv', 'admin2': 'zw_admin2_shapefile.csv', 'admin3': 'zw_admin3_shapefile.csv', 'voronoi': 'zw_voronoi_shapefile.csv', 'admin2_tower_map': 'zw_admin2_tower_map.csv', 'admin3_tower_map': 'zw_admin3_tower_map.csv', 'voronoi_tower_map': 'zw_voronoi_tower_map.csv', 'voronoi_tower_map_harare': 'zw_voronoi_tower_map_harare.csv', 'voronoi_tower_map_bulawayo': 'zw_voronoi_tower_map_bulawayo.csv', 'distances': 'zw_distances_pd_long.csv', 'admin2_incidence': 'zw_admin2_covid_incidence_march30.csv', 'admin2_weight': 'zw_admin2_weight.csv', 'admin3_weight': 'zw_admin3_weight.csv'}\n",
      "Load options: {'seperator': ',', 'header': 'false', 'mode': 'PERMISSIVE', 'datemask': 'dd/MM/yyyy HH:mm:ss'}\n",
      "Load schema: StructType(List(StructField(msisdn,IntegerType,true),StructField(call_datetime,StringType,true),StructField(location_id,StringType,true)))\n",
      "Filenames: {'parquetfile': 'febmar20.parquet'}\n",
      "\n"
     ]
    }
   ],
   "source": [
    "ds = DataSource(datasource_configs)\n",
    "ds.show_config()"
   ]
  },
  {
   "cell_type": "code",
   "execution_count": 54,
   "metadata": {},
   "outputs": [],
   "source": [
    "from modules.setup import *"
   ]
  },
  {
   "cell_type": "markdown",
   "metadata": {},
   "source": [
    "# Import data"
   ]
  },
  {
   "cell_type": "markdown",
   "metadata": {},
   "source": [
    "## Load CDR data"
   ]
  },
  {
   "cell_type": "markdown",
   "metadata": {},
   "source": [
    "### Process/standardize raw data, save as parquet, and then load it"
   ]
  },
  {
   "cell_type": "code",
   "execution_count": null,
   "metadata": {},
   "outputs": [],
   "source": [
    "# ds.standardize_csv_files(show=True)\n",
    "# ds.save_as_parquet()"
   ]
  },
  {
   "cell_type": "code",
   "execution_count": null,
   "metadata": {},
   "outputs": [],
   "source": [
    "#ds.load_standardized_parquet_file()"
   ]
  },
  {
   "cell_type": "markdown",
   "metadata": {},
   "source": [
    "### Alternatively, specify and load hive table"
   ]
  },
  {
   "cell_type": "code",
   "execution_count": null,
   "metadata": {},
   "outputs": [],
   "source": [
    "# # Specify and load hive data\n",
    "# ds.parquet_df = ds.spark.sql(\"\"\"SELECT {} AS msisdn, \n",
    "#                                        {} AS call_datetime, \n",
    "#                                        {} AS location_id FROM {}\"\"\".format(ds.hive_vars['msisdn'],\n",
    "#                                                                            ds.hive_vars['call_datetime'],\n",
    "#                                                                            ds.hive_vars['location_id'],\n",
    "#                                                                            ds.hive_vars['calls']))"
   ]
  },
  {
   "cell_type": "markdown",
   "metadata": {},
   "source": [
    "### Or load a sample file"
   ]
  },
  {
   "cell_type": "code",
   "execution_count": 55,
   "metadata": {},
   "outputs": [],
   "source": [
    "## Use this in case you want to sample the data and run the code on the sample\n",
    "\n",
    "# #ds.sample_and_save(number_of_ids=1000)\n",
    "ds.load_sample('sample_feb_mar2020')\n",
    "ds.parquet_df = ds.sample_df"
   ]
  },
  {
   "cell_type": "markdown",
   "metadata": {},
   "source": [
    "## Load geo data"
   ]
  },
  {
   "cell_type": "code",
   "execution_count": 56,
   "metadata": {},
   "outputs": [],
   "source": [
    "ds.load_geo_csvs()"
   ]
  },
  {
   "cell_type": "code",
   "execution_count": null,
   "metadata": {},
   "outputs": [],
   "source": [
    "## Use this in case you want to cluster the towers and create a distance matrix\n",
    "\n",
    "# ds.create_gpds()\n",
    "# from modules.tower_clustering import *\n",
    "# clusterer = tower_clusterer(ds, 'admin2', 'ID_2')\n",
    "# ds.admin2_tower_map, ds.distances = clusterer.cluster_towers()\n",
    "# clusterer = tower_clusterer(ds, 'admin3', 'ADM3_PCODE')\n",
    "# ds.admin3_tower_map, ds.distances  = clusterer.cluster_towers()"
   ]
  },
  {
   "cell_type": "code",
   "execution_count": null,
   "metadata": {},
   "outputs": [],
   "source": [
    "## Use this in case you want to create a voronoi tesselation\n",
    "\n",
    "# from modules.voronoi import *\n",
    "# voronoi = voronoi_maker(ds, 'admin3', 'ADM3_PCODE')\n",
    "# ds.voronoi = voronoi.make_voronoi()"
   ]
  },
  {
   "cell_type": "markdown",
   "metadata": {},
   "source": [
    "# Run aggregations"
   ]
  },
  {
   "cell_type": "markdown",
   "metadata": {},
   "source": [
    "## Flowminder indicators for admin2"
   ]
  },
  {
   "cell_type": "code",
   "execution_count": null,
   "metadata": {},
   "outputs": [
    {
     "name": "stdout",
     "output_type": "stream",
     "text": [
      "--> File does not exist. Saving: count_unique_subscribers_per_region_per_day\n",
      "Caching: home_locations\n",
      "--> File does not exist. Saving: count_unique_active_residents_per_region_per_day\n",
      "--> File does not exist. Saving: count_unique_visitors_per_region_per_day\n",
      "--> File does not exist. Saving: count_unique_subscribers_per_region_per_week\n",
      "--> File does not exist. Saving: count_unique_active_residents_per_region_per_week\n",
      "--> File does not exist. Saving: count_unique_visitors_per_region_per_week\n",
      "--> File does not exist. Saving: regional_pair_connections_per_day\n",
      "--> File does not exist. Saving: directed_regional_pair_connections_per_day\n",
      "--> File does not exist. Saving: total_calls_per_region_per_day\n"
     ]
    }
   ],
   "source": [
    "agg_flowminder_admin2 = flowminder_aggregator(result_stub = '/admin2/flowminder',\n",
    "                            datasource = ds,\n",
    "                            regions = 'admin2_tower_map')\n",
    "\n",
    "agg_flowminder_admin2.attempt_aggregation()"
   ]
  },
  {
   "cell_type": "markdown",
   "metadata": {},
   "source": [
    "## Flowminder indicators for admin3"
   ]
  },
  {
   "cell_type": "code",
   "execution_count": null,
   "metadata": {},
   "outputs": [],
   "source": [
    "agg_flowminder_admin3 = flowminder_aggregator(result_stub = '/admin3/flowminder',\n",
    "                            datasource = ds,\n",
    "                            regions = 'admin3_tower_map')\n",
    "\n",
    "agg_flowminder_admin3.attempt_aggregation()"
   ]
  },
  {
   "cell_type": "markdown",
   "metadata": {},
   "source": [
    "## Priority indicators for admin2"
   ]
  },
  {
   "cell_type": "code",
   "execution_count": null,
   "metadata": {},
   "outputs": [],
   "source": [
    "agg_priority_admin2 = priority_aggregator(result_stub = '/admin2/priority',\n",
    "                               datasource = ds,\n",
    "                               regions = 'admin2_tower_map')\n",
    "\n",
    "agg_priority_admin2.attempt_aggregation()"
   ]
  },
  {
   "cell_type": "markdown",
   "metadata": {},
   "source": [
    "## Priority indicators for admin3"
   ]
  },
  {
   "cell_type": "code",
   "execution_count": null,
   "metadata": {},
   "outputs": [],
   "source": [
    "agg_priority_admin3 = priority_aggregator(result_stub = '/admin3/priority',\n",
    "                            datasource = ds,\n",
    "                            regions = 'admin3_tower_map')\n",
    "\n",
    "agg_priority_admin3.attempt_aggregation()"
   ]
  },
  {
   "cell_type": "markdown",
   "metadata": {},
   "source": [
    "## Scaled priority indicators for admin2"
   ]
  },
  {
   "cell_type": "code",
   "execution_count": null,
   "metadata": {},
   "outputs": [],
   "source": [
    "agg_scaled_admin2 = scaled_aggregator(result_stub = '/admin2/scaled',\n",
    "                               datasource = ds,\n",
    "                               regions = 'admin2_tower_map')\n",
    "\n",
    "agg_scaled_admin2.attempt_aggregation()"
   ]
  },
  {
   "cell_type": "markdown",
   "metadata": {},
   "source": [
    "## Priority indicators for tower-cluster"
   ]
  },
  {
   "cell_type": "code",
   "execution_count": null,
   "metadata": {},
   "outputs": [],
   "source": [
    "agg_priority_tower = priority_aggregator(result_stub = '/voronoi/priority',\n",
    "                               datasource = ds,\n",
    "                               regions = 'voronoi_tower_map')\n",
    "\n",
    "agg_priority_tower.attempt_aggregation(indicators_to_produce = {'unique_subscribers_per_hour' : ['unique_subscribers', 'hour'],\n",
    "                                                        'mean_distance_per_day' : ['mean_distance', 'day'],\n",
    "                                                        'mean_distance_per_week' : ['mean_distance', 'week']})"
   ]
  },
  {
   "cell_type": "code",
   "execution_count": null,
   "metadata": {},
   "outputs": [],
   "source": [
    "agg_priority_tower_harare = priority_aggregator(result_stub = '/voronoi/priority/harare',\n",
    "                               datasource = ds,\n",
    "                               regions = 'voronoi_tower_map_harare')\n",
    "\n",
    "agg_priority_tower_harare.attempt_aggregation(indicators_to_produce = {'origin_destination_connection_matrix_per_day' : ['origin_destination_connection_matrix', 'day']})"
   ]
  },
  {
   "cell_type": "code",
   "execution_count": null,
   "metadata": {},
   "outputs": [],
   "source": [
    "agg_priority_tower_bulawayo = priority_aggregator(result_stub = '/voronoi/priority/bulawayo',\n",
    "                               datasource = ds,\n",
    "                               regions = 'voronoi_tower_map_bulawayo')\n",
    "\n",
    "agg_priority_tower_bulawayo.attempt_aggregation(indicators_to_produce = {'origin_destination_connection_matrix_per_day' : ['origin_destination_connection_matrix', 'day']})"
   ]
  },
  {
   "cell_type": "markdown",
   "metadata": {},
   "source": [
    "# Produce script"
   ]
  },
  {
   "cell_type": "code",
   "execution_count": null,
   "metadata": {},
   "outputs": [],
   "source": [
    "!jupyter nbconvert --to script *.ipynb"
   ]
  },
  {
   "cell_type": "code",
   "execution_count": null,
   "metadata": {},
   "outputs": [],
   "source": []
  }
 ],
 "metadata": {
  "kernelspec": {
   "display_name": "Python 3",
   "language": "python",
   "name": "python3"
  },
  "language_info": {
   "codemirror_mode": {
    "name": "ipython",
    "version": 3
   },
   "file_extension": ".py",
   "mimetype": "text/x-python",
   "name": "python",
   "nbconvert_exporter": "python",
   "pygments_lexer": "ipython3",
   "version": "3.7.6"
  },
  "toc-autonumbering": true
 },
 "nbformat": 4,
 "nbformat_minor": 4
}
